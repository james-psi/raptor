{
 "cells": [
  {
   "cell_type": "markdown",
   "id": "912cd8c6-d405-4dfe-8897-46108e6a6af7",
   "metadata": {},
   "source": [
    "# RAPTOR: Recursive Abstractive Processing for Tree-Organized Retrieval"
   ]
  },
  {
   "cell_type": "code",
   "execution_count": 32,
   "id": "631b09a3",
   "metadata": {},
   "outputs": [],
   "source": [
    "# Cell 1 - Update the environment variable setup\n",
    "import os\n",
    "os.environ[\"AZURE_OPENAI_API_KEY\"] = \"KEY\"\n",
    "os.environ[\"AZURE_OPENAI_ENDPOINT\"] = \"ENDPOINT\""
   ]
  },
  {
   "cell_type": "code",
   "execution_count": 33,
   "id": "e2d7d995-7beb-40b5-9a44-afd350b7d221",
   "metadata": {},
   "outputs": [
    {
     "name": "stdout",
     "output_type": "stream",
     "text": [
      "The wife of a rich man fell sick, and as she felt that her end\n",
      "was drawing near, she called her only\n"
     ]
    }
   ],
   "source": [
    "# Cinderella story defined in sample.txt\n",
    "with open('demo/sample.txt', 'r') as file:\n",
    "    text = file.read()\n",
    "\n",
    "print(text[:100])"
   ]
  },
  {
   "cell_type": "markdown",
   "id": "c7d51ebd-5597-4fdd-8c37-32636395081b",
   "metadata": {},
   "source": [
    "1) **Building**: RAPTOR recursively embeds, clusters, and summarizes chunks of text to construct a tree with varying levels of summarization from the bottom up. You can create a tree from the text in 'sample.txt' using `RA.add_documents(text)`.\n",
    "\n",
    "2) **Querying**: At inference time, the RAPTOR model retrieves information from this tree, integrating data across lengthy documents at different abstraction levels. You can perform queries on the tree with `RA.answer_question`."
   ]
  },
  {
   "cell_type": "markdown",
   "id": "f4f58830-9004-48a4-b50e-61a855511d24",
   "metadata": {},
   "source": [
    "### Building the tree"
   ]
  },
  {
   "cell_type": "code",
   "execution_count": 34,
   "id": "3753fcf9-0a8e-4ab3-bf3a-6be38ef6cd1e",
   "metadata": {},
   "outputs": [],
   "source": [
    "from raptor import RetrievalAugmentation "
   ]
  },
  {
   "cell_type": "code",
   "execution_count": 35,
   "id": "7e843edf",
   "metadata": {},
   "outputs": [
    {
     "name": "stderr",
     "output_type": "stream",
     "text": [
      "2025-02-04 23:54:19,336 - Successfully initialized TreeBuilder with Config \n",
      "        TreeBuilderConfig:\n",
      "            Tokenizer: <Encoding 'cl100k_base'>\n",
      "            Max Tokens: 100\n",
      "            Num Layers: 5\n",
      "            Threshold: 0.5\n",
      "            Top K: 5\n",
      "            Selection Mode: top_k\n",
      "            Summarization Length: 100\n",
      "            Summarization Model: <raptor.SummarizationModels.GPT3TurboSummarizationModel object at 0x000001CF41E481D0>\n",
      "            Embedding Models: {'OpenAI': <raptor.EmbeddingModels.OpenAIEmbeddingModel object at 0x000001CF41C8B890>}\n",
      "            Cluster Embedding Model: OpenAI\n",
      "        \n",
      "        Reduction Dimension: 10\n",
      "        Clustering Algorithm: RAPTOR_Clustering\n",
      "        Clustering Parameters: {}\n",
      "        \n",
      "2025-02-04 23:54:19,337 - Successfully initialized ClusterTreeBuilder with Config \n",
      "        TreeBuilderConfig:\n",
      "            Tokenizer: <Encoding 'cl100k_base'>\n",
      "            Max Tokens: 100\n",
      "            Num Layers: 5\n",
      "            Threshold: 0.5\n",
      "            Top K: 5\n",
      "            Selection Mode: top_k\n",
      "            Summarization Length: 100\n",
      "            Summarization Model: <raptor.SummarizationModels.GPT3TurboSummarizationModel object at 0x000001CF41E481D0>\n",
      "            Embedding Models: {'OpenAI': <raptor.EmbeddingModels.OpenAIEmbeddingModel object at 0x000001CF41C8B890>}\n",
      "            Cluster Embedding Model: OpenAI\n",
      "        \n",
      "        Reduction Dimension: 10\n",
      "        Clustering Algorithm: RAPTOR_Clustering\n",
      "        Clustering Parameters: {}\n",
      "        \n",
      "2025-02-04 23:54:19,337 - Successfully initialized RetrievalAugmentation with Config \n",
      "        RetrievalAugmentationConfig:\n",
      "            \n",
      "        TreeBuilderConfig:\n",
      "            Tokenizer: <Encoding 'cl100k_base'>\n",
      "            Max Tokens: 100\n",
      "            Num Layers: 5\n",
      "            Threshold: 0.5\n",
      "            Top K: 5\n",
      "            Selection Mode: top_k\n",
      "            Summarization Length: 100\n",
      "            Summarization Model: <raptor.SummarizationModels.GPT3TurboSummarizationModel object at 0x000001CF41E481D0>\n",
      "            Embedding Models: {'OpenAI': <raptor.EmbeddingModels.OpenAIEmbeddingModel object at 0x000001CF41C8B890>}\n",
      "            Cluster Embedding Model: OpenAI\n",
      "        \n",
      "        Reduction Dimension: 10\n",
      "        Clustering Algorithm: RAPTOR_Clustering\n",
      "        Clustering Parameters: {}\n",
      "        \n",
      "            \n",
      "            \n",
      "        TreeRetrieverConfig:\n",
      "            Tokenizer: <Encoding 'cl100k_base'>\n",
      "            Threshold: 0.5\n",
      "            Top K: 5\n",
      "            Selection Mode: top_k\n",
      "            Context Embedding Model: OpenAI\n",
      "            Embedding Model: <raptor.EmbeddingModels.OpenAIEmbeddingModel object at 0x000001CF3F0B98D0>\n",
      "            Num Layers: None\n",
      "            Start Layer: None\n",
      "        \n",
      "            \n",
      "            QA Model: <raptor.QAModels.GPT3TurboQAModel object at 0x000001CF41D5D110>\n",
      "            Tree Builder Type: cluster\n",
      "        \n",
      "2025-02-04 23:54:19,342 - Creating Leaf Nodes\n",
      "2025-02-04 23:54:20,358 - HTTP Request: POST https://james-ai.openai.azure.com/openai/deployments/text-embedding-3-small/embeddings?api-version=2024-02-15-preview \"HTTP/1.1 200 OK\"\n",
      "2025-02-04 23:54:20,360 - HTTP Request: POST https://james-ai.openai.azure.com/openai/deployments/text-embedding-3-small/embeddings?api-version=2024-02-15-preview \"HTTP/1.1 200 OK\"\n",
      "2025-02-04 23:54:20,361 - HTTP Request: POST https://james-ai.openai.azure.com/openai/deployments/text-embedding-3-small/embeddings?api-version=2024-02-15-preview \"HTTP/1.1 200 OK\"\n",
      "2025-02-04 23:54:20,369 - HTTP Request: POST https://james-ai.openai.azure.com/openai/deployments/text-embedding-3-small/embeddings?api-version=2024-02-15-preview \"HTTP/1.1 200 OK\"\n",
      "2025-02-04 23:54:20,371 - HTTP Request: POST https://james-ai.openai.azure.com/openai/deployments/text-embedding-3-small/embeddings?api-version=2024-02-15-preview \"HTTP/1.1 200 OK\"\n",
      "2025-02-04 23:54:20,376 - HTTP Request: POST https://james-ai.openai.azure.com/openai/deployments/text-embedding-3-small/embeddings?api-version=2024-02-15-preview \"HTTP/1.1 200 OK\"\n",
      "2025-02-04 23:54:20,377 - HTTP Request: POST https://james-ai.openai.azure.com/openai/deployments/text-embedding-3-small/embeddings?api-version=2024-02-15-preview \"HTTP/1.1 200 OK\"\n",
      "2025-02-04 23:54:20,379 - HTTP Request: POST https://james-ai.openai.azure.com/openai/deployments/text-embedding-3-small/embeddings?api-version=2024-02-15-preview \"HTTP/1.1 200 OK\"\n",
      "2025-02-04 23:54:20,385 - HTTP Request: POST https://james-ai.openai.azure.com/openai/deployments/text-embedding-3-small/embeddings?api-version=2024-02-15-preview \"HTTP/1.1 200 OK\"\n",
      "2025-02-04 23:54:20,407 - HTTP Request: POST https://james-ai.openai.azure.com/openai/deployments/text-embedding-3-small/embeddings?api-version=2024-02-15-preview \"HTTP/1.1 200 OK\"\n",
      "2025-02-04 23:54:20,412 - HTTP Request: POST https://james-ai.openai.azure.com/openai/deployments/text-embedding-3-small/embeddings?api-version=2024-02-15-preview \"HTTP/1.1 200 OK\"\n",
      "2025-02-04 23:54:20,412 - HTTP Request: POST https://james-ai.openai.azure.com/openai/deployments/text-embedding-3-small/embeddings?api-version=2024-02-15-preview \"HTTP/1.1 200 OK\"\n",
      "2025-02-04 23:54:20,629 - HTTP Request: POST https://james-ai.openai.azure.com/openai/deployments/text-embedding-3-small/embeddings?api-version=2024-02-15-preview \"HTTP/1.1 200 OK\"\n",
      "2025-02-04 23:54:20,630 - HTTP Request: POST https://james-ai.openai.azure.com/openai/deployments/text-embedding-3-small/embeddings?api-version=2024-02-15-preview \"HTTP/1.1 200 OK\"\n",
      "2025-02-04 23:54:20,638 - HTTP Request: POST https://james-ai.openai.azure.com/openai/deployments/text-embedding-3-small/embeddings?api-version=2024-02-15-preview \"HTTP/1.1 200 OK\"\n",
      "2025-02-04 23:54:20,650 - HTTP Request: POST https://james-ai.openai.azure.com/openai/deployments/text-embedding-3-small/embeddings?api-version=2024-02-15-preview \"HTTP/1.1 200 OK\"\n",
      "2025-02-04 23:54:20,656 - HTTP Request: POST https://james-ai.openai.azure.com/openai/deployments/text-embedding-3-small/embeddings?api-version=2024-02-15-preview \"HTTP/1.1 200 OK\"\n",
      "2025-02-04 23:54:20,677 - HTTP Request: POST https://james-ai.openai.azure.com/openai/deployments/text-embedding-3-small/embeddings?api-version=2024-02-15-preview \"HTTP/1.1 200 OK\"\n",
      "2025-02-04 23:54:20,679 - HTTP Request: POST https://james-ai.openai.azure.com/openai/deployments/text-embedding-3-small/embeddings?api-version=2024-02-15-preview \"HTTP/1.1 200 OK\"\n",
      "2025-02-04 23:54:20,691 - HTTP Request: POST https://james-ai.openai.azure.com/openai/deployments/text-embedding-3-small/embeddings?api-version=2024-02-15-preview \"HTTP/1.1 200 OK\"\n",
      "2025-02-04 23:54:20,700 - HTTP Request: POST https://james-ai.openai.azure.com/openai/deployments/text-embedding-3-small/embeddings?api-version=2024-02-15-preview \"HTTP/1.1 200 OK\"\n",
      "2025-02-04 23:54:20,702 - HTTP Request: POST https://james-ai.openai.azure.com/openai/deployments/text-embedding-3-small/embeddings?api-version=2024-02-15-preview \"HTTP/1.1 200 OK\"\n",
      "2025-02-04 23:54:20,702 - HTTP Request: POST https://james-ai.openai.azure.com/openai/deployments/text-embedding-3-small/embeddings?api-version=2024-02-15-preview \"HTTP/1.1 200 OK\"\n",
      "2025-02-04 23:54:20,722 - HTTP Request: POST https://james-ai.openai.azure.com/openai/deployments/text-embedding-3-small/embeddings?api-version=2024-02-15-preview \"HTTP/1.1 200 OK\"\n",
      "2025-02-04 23:54:20,896 - HTTP Request: POST https://james-ai.openai.azure.com/openai/deployments/text-embedding-3-small/embeddings?api-version=2024-02-15-preview \"HTTP/1.1 200 OK\"\n",
      "2025-02-04 23:54:20,905 - HTTP Request: POST https://james-ai.openai.azure.com/openai/deployments/text-embedding-3-small/embeddings?api-version=2024-02-15-preview \"HTTP/1.1 200 OK\"\n",
      "2025-02-04 23:54:20,914 - HTTP Request: POST https://james-ai.openai.azure.com/openai/deployments/text-embedding-3-small/embeddings?api-version=2024-02-15-preview \"HTTP/1.1 200 OK\"\n",
      "2025-02-04 23:54:20,921 - HTTP Request: POST https://james-ai.openai.azure.com/openai/deployments/text-embedding-3-small/embeddings?api-version=2024-02-15-preview \"HTTP/1.1 200 OK\"\n",
      "2025-02-04 23:54:20,925 - HTTP Request: POST https://james-ai.openai.azure.com/openai/deployments/text-embedding-3-small/embeddings?api-version=2024-02-15-preview \"HTTP/1.1 200 OK\"\n",
      "2025-02-04 23:54:20,961 - HTTP Request: POST https://james-ai.openai.azure.com/openai/deployments/text-embedding-3-small/embeddings?api-version=2024-02-15-preview \"HTTP/1.1 200 OK\"\n",
      "2025-02-04 23:54:20,968 - HTTP Request: POST https://james-ai.openai.azure.com/openai/deployments/text-embedding-3-small/embeddings?api-version=2024-02-15-preview \"HTTP/1.1 200 OK\"\n",
      "2025-02-04 23:54:20,975 - HTTP Request: POST https://james-ai.openai.azure.com/openai/deployments/text-embedding-3-small/embeddings?api-version=2024-02-15-preview \"HTTP/1.1 200 OK\"\n",
      "2025-02-04 23:54:20,991 - HTTP Request: POST https://james-ai.openai.azure.com/openai/deployments/text-embedding-3-small/embeddings?api-version=2024-02-15-preview \"HTTP/1.1 200 OK\"\n",
      "2025-02-04 23:54:20,992 - HTTP Request: POST https://james-ai.openai.azure.com/openai/deployments/text-embedding-3-small/embeddings?api-version=2024-02-15-preview \"HTTP/1.1 200 OK\"\n",
      "2025-02-04 23:54:20,992 - HTTP Request: POST https://james-ai.openai.azure.com/openai/deployments/text-embedding-3-small/embeddings?api-version=2024-02-15-preview \"HTTP/1.1 200 OK\"\n",
      "2025-02-04 23:54:21,001 - Created 35 Leaf Embeddings\n",
      "2025-02-04 23:54:21,002 - Building All Nodes\n",
      "2025-02-04 23:54:21,034 - Using Cluster TreeBuilder\n",
      "2025-02-04 23:54:21,034 - Constructing Layer 0\n",
      "d:\\Repositories\\raptor\\.venv\\Lib\\site-packages\\sklearn\\utils\\deprecation.py:151: FutureWarning: 'force_all_finite' was renamed to 'ensure_all_finite' in 1.6 and will be removed in 1.8.\n",
      "  warnings.warn(\n",
      "2025-02-04 23:54:21,833 - Summarization Length: 100\n",
      "2025-02-04 23:54:24,168 - HTTP Request: POST https://james-ai.openai.azure.com/openai/deployments/gpt-4o/chat/completions?api-version=2024-02-15-preview \"HTTP/1.1 200 OK\"\n",
      "2025-02-04 23:54:24,170 - Node Texts Length: 865, Summarized Text Length: 104\n",
      "2025-02-04 23:54:24,437 - HTTP Request: POST https://james-ai.openai.azure.com/openai/deployments/text-embedding-3-small/embeddings?api-version=2024-02-15-preview \"HTTP/1.1 200 OK\"\n",
      "2025-02-04 23:54:26,014 - HTTP Request: POST https://james-ai.openai.azure.com/openai/deployments/gpt-4o/chat/completions?api-version=2024-02-15-preview \"HTTP/1.1 200 OK\"\n",
      "2025-02-04 23:54:26,017 - Node Texts Length: 407, Summarized Text Length: 100\n",
      "2025-02-04 23:54:26,290 - HTTP Request: POST https://james-ai.openai.azure.com/openai/deployments/text-embedding-3-small/embeddings?api-version=2024-02-15-preview \"HTTP/1.1 200 OK\"\n",
      "2025-02-04 23:54:27,825 - HTTP Request: POST https://james-ai.openai.azure.com/openai/deployments/gpt-4o/chat/completions?api-version=2024-02-15-preview \"HTTP/1.1 200 OK\"\n",
      "2025-02-04 23:54:27,827 - Node Texts Length: 467, Summarized Text Length: 107\n",
      "2025-02-04 23:54:28,087 - HTTP Request: POST https://james-ai.openai.azure.com/openai/deployments/text-embedding-3-small/embeddings?api-version=2024-02-15-preview \"HTTP/1.1 200 OK\"\n",
      "2025-02-04 23:54:30,132 - HTTP Request: POST https://james-ai.openai.azure.com/openai/deployments/gpt-4o/chat/completions?api-version=2024-02-15-preview \"HTTP/1.1 200 OK\"\n",
      "2025-02-04 23:54:30,133 - Node Texts Length: 581, Summarized Text Length: 105\n",
      "2025-02-04 23:54:30,397 - HTTP Request: POST https://james-ai.openai.azure.com/openai/deployments/text-embedding-3-small/embeddings?api-version=2024-02-15-preview \"HTTP/1.1 200 OK\"\n",
      "2025-02-04 23:54:32,042 - HTTP Request: POST https://james-ai.openai.azure.com/openai/deployments/gpt-4o/chat/completions?api-version=2024-02-15-preview \"HTTP/1.1 200 OK\"\n",
      "2025-02-04 23:54:32,044 - Node Texts Length: 286, Summarized Text Length: 100\n",
      "2025-02-04 23:54:32,307 - HTTP Request: POST https://james-ai.openai.azure.com/openai/deployments/text-embedding-3-small/embeddings?api-version=2024-02-15-preview \"HTTP/1.1 200 OK\"\n",
      "2025-02-04 23:54:33,949 - HTTP Request: POST https://james-ai.openai.azure.com/openai/deployments/gpt-4o/chat/completions?api-version=2024-02-15-preview \"HTTP/1.1 200 OK\"\n",
      "2025-02-04 23:54:33,951 - Node Texts Length: 675, Summarized Text Length: 101\n",
      "2025-02-04 23:54:34,212 - HTTP Request: POST https://james-ai.openai.azure.com/openai/deployments/text-embedding-3-small/embeddings?api-version=2024-02-15-preview \"HTTP/1.1 200 OK\"\n",
      "2025-02-04 23:54:34,214 - Constructing Layer 1\n",
      "2025-02-04 23:54:34,214 - Stopping Layer construction: Cannot Create More Layers. Total Layers in tree: 1\n",
      "2025-02-04 23:54:34,215 - Successfully initialized TreeRetriever with Config \n",
      "        TreeRetrieverConfig:\n",
      "            Tokenizer: <Encoding 'cl100k_base'>\n",
      "            Threshold: 0.5\n",
      "            Top K: 5\n",
      "            Selection Mode: top_k\n",
      "            Context Embedding Model: OpenAI\n",
      "            Embedding Model: <raptor.EmbeddingModels.OpenAIEmbeddingModel object at 0x000001CF3F0B98D0>\n",
      "            Num Layers: None\n",
      "            Start Layer: None\n",
      "        \n"
     ]
    }
   ],
   "source": [
    "RA = RetrievalAugmentation()\n",
    "\n",
    "# construct the tree\n",
    "RA.add_documents(text)"
   ]
  },
  {
   "cell_type": "markdown",
   "id": "f219d60a-1f0b-4cee-89eb-2ae026f13e63",
   "metadata": {},
   "source": [
    "### Querying from the tree\n",
    "\n",
    "```python\n",
    "question = # any question\n",
    "RA.answer_question(question)\n",
    "```"
   ]
  },
  {
   "cell_type": "code",
   "execution_count": 36,
   "id": "1b4037c5-ad5a-424b-80e4-a67b8e00773b",
   "metadata": {},
   "outputs": [
    {
     "name": "stderr",
     "output_type": "stream",
     "text": [
      "2025-02-04 23:56:04,396 - Using collapsed_tree\n",
      "2025-02-04 23:56:06,455 - HTTP Request: POST https://james-ai.openai.azure.com/openai/deployments/text-embedding-3-small/embeddings?api-version=2024-02-15-preview \"HTTP/1.1 200 OK\"\n",
      "2025-02-04 23:56:11,098 - HTTP Request: POST https://james-ai.openai.azure.com/openai/deployments/gpt-4o/chat/completions?api-version=2024-02-15-preview \"HTTP/1.1 200 OK\"\n"
     ]
    },
    {
     "name": "stdout",
     "output_type": "stream",
     "text": [
      "Answer:  Cinderella reached her happy ending through a combination of her kindness, perseverance, and the magical help she received from the hazel tree and the little white bird. Despite the cruelty of her stepmother and stepsisters, Cinderella remained gentle and hopeful. She planted the hazel twig given to her by her father on her mother's grave, and it grew into a tree that granted her wishes. When the king announced a festival to find a bride for his son, Cinderella's stepmother and stepsisters went to the event, leaving her behind. However, with the help of the magical tree and the bird, Cinderella was able to attend the festival in beautiful dresses. The king's son was captivated by her beauty and grace, and after a series of events involving a lost slipper, he eventually found Cinderella and recognized her as his true bride. The two were married, and Cinderella's kindness and patience were rewarded with a happy life as the prince's wife.\n"
     ]
    }
   ],
   "source": [
    "question = \"How did Cinderella reach her happy ending ?\"\n",
    "\n",
    "answer = RA.answer_question(question=question)\n",
    "\n",
    "print(\"Answer: \", answer)"
   ]
  },
  {
   "cell_type": "code",
   "execution_count": 37,
   "id": "f5be7e57",
   "metadata": {},
   "outputs": [
    {
     "name": "stderr",
     "output_type": "stream",
     "text": [
      "2025-02-04 23:56:27,310 - Tree successfully saved to demo/cinderella\n"
     ]
    }
   ],
   "source": [
    "# Save the tree by calling RA.save(\"path/to/save\")\n",
    "SAVE_PATH = \"demo/cinderella\"\n",
    "RA.save(SAVE_PATH)"
   ]
  },
  {
   "cell_type": "code",
   "execution_count": 38,
   "id": "2e845de9",
   "metadata": {},
   "outputs": [
    {
     "name": "stderr",
     "output_type": "stream",
     "text": [
      "2025-02-04 23:56:47,036 - Successfully initialized TreeBuilder with Config \n",
      "        TreeBuilderConfig:\n",
      "            Tokenizer: <Encoding 'cl100k_base'>\n",
      "            Max Tokens: 100\n",
      "            Num Layers: 5\n",
      "            Threshold: 0.5\n",
      "            Top K: 5\n",
      "            Selection Mode: top_k\n",
      "            Summarization Length: 100\n",
      "            Summarization Model: <raptor.SummarizationModels.GPT3TurboSummarizationModel object at 0x000001CF425FC710>\n",
      "            Embedding Models: {'OpenAI': <raptor.EmbeddingModels.OpenAIEmbeddingModel object at 0x000001CF3F0B4BD0>}\n",
      "            Cluster Embedding Model: OpenAI\n",
      "        \n",
      "        Reduction Dimension: 10\n",
      "        Clustering Algorithm: RAPTOR_Clustering\n",
      "        Clustering Parameters: {}\n",
      "        \n",
      "2025-02-04 23:56:47,038 - Successfully initialized ClusterTreeBuilder with Config \n",
      "        TreeBuilderConfig:\n",
      "            Tokenizer: <Encoding 'cl100k_base'>\n",
      "            Max Tokens: 100\n",
      "            Num Layers: 5\n",
      "            Threshold: 0.5\n",
      "            Top K: 5\n",
      "            Selection Mode: top_k\n",
      "            Summarization Length: 100\n",
      "            Summarization Model: <raptor.SummarizationModels.GPT3TurboSummarizationModel object at 0x000001CF425FC710>\n",
      "            Embedding Models: {'OpenAI': <raptor.EmbeddingModels.OpenAIEmbeddingModel object at 0x000001CF3F0B4BD0>}\n",
      "            Cluster Embedding Model: OpenAI\n",
      "        \n",
      "        Reduction Dimension: 10\n",
      "        Clustering Algorithm: RAPTOR_Clustering\n",
      "        Clustering Parameters: {}\n",
      "        \n",
      "2025-02-04 23:56:47,039 - Successfully initialized TreeRetriever with Config \n",
      "        TreeRetrieverConfig:\n",
      "            Tokenizer: <Encoding 'cl100k_base'>\n",
      "            Threshold: 0.5\n",
      "            Top K: 5\n",
      "            Selection Mode: top_k\n",
      "            Context Embedding Model: OpenAI\n",
      "            Embedding Model: <raptor.EmbeddingModels.OpenAIEmbeddingModel object at 0x000001CF41C3CA90>\n",
      "            Num Layers: None\n",
      "            Start Layer: None\n",
      "        \n",
      "2025-02-04 23:56:47,041 - Successfully initialized RetrievalAugmentation with Config \n",
      "        RetrievalAugmentationConfig:\n",
      "            \n",
      "        TreeBuilderConfig:\n",
      "            Tokenizer: <Encoding 'cl100k_base'>\n",
      "            Max Tokens: 100\n",
      "            Num Layers: 5\n",
      "            Threshold: 0.5\n",
      "            Top K: 5\n",
      "            Selection Mode: top_k\n",
      "            Summarization Length: 100\n",
      "            Summarization Model: <raptor.SummarizationModels.GPT3TurboSummarizationModel object at 0x000001CF425FC710>\n",
      "            Embedding Models: {'OpenAI': <raptor.EmbeddingModels.OpenAIEmbeddingModel object at 0x000001CF3F0B4BD0>}\n",
      "            Cluster Embedding Model: OpenAI\n",
      "        \n",
      "        Reduction Dimension: 10\n",
      "        Clustering Algorithm: RAPTOR_Clustering\n",
      "        Clustering Parameters: {}\n",
      "        \n",
      "            \n",
      "            \n",
      "        TreeRetrieverConfig:\n",
      "            Tokenizer: <Encoding 'cl100k_base'>\n",
      "            Threshold: 0.5\n",
      "            Top K: 5\n",
      "            Selection Mode: top_k\n",
      "            Context Embedding Model: OpenAI\n",
      "            Embedding Model: <raptor.EmbeddingModels.OpenAIEmbeddingModel object at 0x000001CF41C3CA90>\n",
      "            Num Layers: None\n",
      "            Start Layer: None\n",
      "        \n",
      "            \n",
      "            QA Model: <raptor.QAModels.GPT3TurboQAModel object at 0x000001CF41CBBFD0>\n",
      "            Tree Builder Type: cluster\n",
      "        \n",
      "2025-02-04 23:56:47,042 - Using collapsed_tree\n",
      "2025-02-04 23:56:49,113 - HTTP Request: POST https://james-ai.openai.azure.com/openai/deployments/text-embedding-3-small/embeddings?api-version=2024-02-15-preview \"HTTP/1.1 200 OK\"\n",
      "2025-02-04 23:56:52,222 - HTTP Request: POST https://james-ai.openai.azure.com/openai/deployments/gpt-4o/chat/completions?api-version=2024-02-15-preview \"HTTP/1.1 200 OK\"\n"
     ]
    },
    {
     "name": "stdout",
     "output_type": "stream",
     "text": [
      "Answer:  Cinderella reached her happy ending through a combination of her kindness, perseverance, and the magical assistance she received from the hazel tree and the little white bird. Despite the cruelty of her stepmother and stepsisters, she remained gentle and hopeful. When her father brought her the hazel twig, she planted it on her mother's grave, and it grew into a tree that granted her wishes. With the help of the bird in the tree, she received beautiful dresses and attended the king's festival. The king's son, enchanted by her beauty and grace, eventually recognized her as the true bride. The two white doves confirmed her identity, and she was finally able to leave her life of servitude and marry the prince, achieving her happy ending.\n"
     ]
    }
   ],
   "source": [
    "# load back the tree by passing it into RetrievalAugmentation\n",
    "\n",
    "RA = RetrievalAugmentation(tree=SAVE_PATH)\n",
    "\n",
    "answer = RA.answer_question(question=question)\n",
    "print(\"Answer: \", answer)"
   ]
  },
  {
   "cell_type": "markdown",
   "id": "277ab6ea-1c79-4ed1-97de-1c2e39d6db2e",
   "metadata": {},
   "source": [
    "## Using other Open Source Models for Summarization/QA/Embeddings\n",
    "\n",
    "If you want to use other models such as Llama or Mistral, you can very easily define your own models and use them with RAPTOR. "
   ]
  },
  {
   "cell_type": "code",
   "execution_count": null,
   "id": "f86cbe7e",
   "metadata": {},
   "outputs": [],
   "source": [
    "from raptor import BaseSummarizationModel, BaseQAModel, BaseEmbeddingModel, RetrievalAugmentationConfig"
   ]
  },
  {
   "cell_type": "code",
   "execution_count": null,
   "id": "fe5cef43",
   "metadata": {},
   "outputs": [],
   "source": [
    "# if you want to use the Gemma, you will need to authenticate with HuggingFace, Skip this step, if you have the model already downloaded\n",
    "from huggingface_hub import login\n",
    "login()"
   ]
  },
  {
   "cell_type": "code",
   "execution_count": null,
   "id": "245b91a5",
   "metadata": {},
   "outputs": [],
   "source": [
    "from transformers import AutoTokenizer, pipeline\n",
    "import torch\n",
    "\n",
    "# You can define your own Summarization model by extending the base Summarization Class. \n",
    "class GEMMASummarizationModel(BaseSummarizationModel):\n",
    "    def __init__(self, model_name=\"google/gemma-2b-it\"):\n",
    "        # Initialize the tokenizer and the pipeline for the GEMMA model\n",
    "        self.tokenizer = AutoTokenizer.from_pretrained(model_name)\n",
    "        self.summarization_pipeline = pipeline(\n",
    "            \"text-generation\",\n",
    "            model=model_name,\n",
    "            model_kwargs={\"torch_dtype\": torch.bfloat16},\n",
    "            device=torch.device('cuda' if torch.cuda.is_available() else 'cpu'),  # Use \"cpu\" if CUDA is not available\n",
    "        )\n",
    "\n",
    "    def summarize(self, context, max_tokens=150):\n",
    "        # Format the prompt for summarization\n",
    "        messages=[\n",
    "            {\"role\": \"user\", \"content\": f\"Write a summary of the following, including as many key details as possible: {context}:\"}\n",
    "        ]\n",
    "        \n",
    "        prompt = self.tokenizer.apply_chat_template(messages, tokenize=False, add_generation_prompt=True)\n",
    "        \n",
    "        # Generate the summary using the pipeline\n",
    "        outputs = self.summarization_pipeline(\n",
    "            prompt,\n",
    "            max_new_tokens=max_tokens,\n",
    "            do_sample=True,\n",
    "            temperature=0.7,\n",
    "            top_k=50,\n",
    "            top_p=0.95\n",
    "        )\n",
    "        \n",
    "        # Extracting and returning the generated summary\n",
    "        summary = outputs[0][\"generated_text\"].strip()\n",
    "        return summary\n"
   ]
  },
  {
   "cell_type": "code",
   "execution_count": null,
   "id": "a171496d",
   "metadata": {},
   "outputs": [],
   "source": [
    "class GEMMAQAModel(BaseQAModel):\n",
    "    def __init__(self, model_name= \"google/gemma-2b-it\"):\n",
    "        # Initialize the tokenizer and the pipeline for the model\n",
    "        self.tokenizer = AutoTokenizer.from_pretrained(model_name)\n",
    "        self.qa_pipeline = pipeline(\n",
    "            \"text-generation\",\n",
    "            model=model_name,\n",
    "            model_kwargs={\"torch_dtype\": torch.bfloat16},\n",
    "            device=torch.device('cuda' if torch.cuda.is_available() else 'cpu'),\n",
    "        )\n",
    "\n",
    "    def answer_question(self, context, question):\n",
    "        # Apply the chat template for the context and question\n",
    "        messages=[\n",
    "              {\"role\": \"user\", \"content\": f\"Given Context: {context} Give the best full answer amongst the option to question {question}\"}\n",
    "        ]\n",
    "        prompt = self.tokenizer.apply_chat_template(messages, tokenize=False, add_generation_prompt=True)\n",
    "        \n",
    "        # Generate the answer using the pipeline\n",
    "        outputs = self.qa_pipeline(\n",
    "            prompt,\n",
    "            max_new_tokens=256,\n",
    "            do_sample=True,\n",
    "            temperature=0.7,\n",
    "            top_k=50,\n",
    "            top_p=0.95\n",
    "        )\n",
    "        \n",
    "        # Extracting and returning the generated answer\n",
    "        answer = outputs[0][\"generated_text\"][len(prompt):]\n",
    "        return answer"
   ]
  },
  {
   "cell_type": "code",
   "execution_count": null,
   "id": "878f7c7b",
   "metadata": {},
   "outputs": [],
   "source": [
    "from sentence_transformers import SentenceTransformer\n",
    "class SBertEmbeddingModel(BaseEmbeddingModel):\n",
    "    def __init__(self, model_name=\"sentence-transformers/multi-qa-mpnet-base-cos-v1\"):\n",
    "        self.model = SentenceTransformer(model_name)\n",
    "\n",
    "    def create_embedding(self, text):\n",
    "        return self.model.encode(text)\n"
   ]
  },
  {
   "cell_type": "code",
   "execution_count": null,
   "id": "255791ce",
   "metadata": {},
   "outputs": [],
   "source": [
    "RAC = RetrievalAugmentationConfig(summarization_model=GEMMASummarizationModel(), qa_model=GEMMAQAModel(), embedding_model=SBertEmbeddingModel())"
   ]
  },
  {
   "cell_type": "code",
   "execution_count": null,
   "id": "fee46f1d",
   "metadata": {},
   "outputs": [],
   "source": [
    "RA = RetrievalAugmentation(config=RAC)"
   ]
  },
  {
   "cell_type": "code",
   "execution_count": null,
   "id": "afe05daf",
   "metadata": {},
   "outputs": [],
   "source": [
    "with open('demo/sample.txt', 'r') as file:\n",
    "    text = file.read()\n",
    "    \n",
    "RA.add_documents(text)"
   ]
  },
  {
   "cell_type": "code",
   "execution_count": null,
   "id": "7eee5847",
   "metadata": {},
   "outputs": [],
   "source": [
    "question = \"How did Cinderella reach her happy ending?\"\n",
    "\n",
    "answer = RA.answer_question(question=question)\n",
    "\n",
    "print(\"Answer: \", answer)"
   ]
  }
 ],
 "metadata": {
  "kernelspec": {
   "display_name": ".venv",
   "language": "python",
   "name": "python3"
  },
  "language_info": {
   "codemirror_mode": {
    "name": "ipython",
    "version": 3
   },
   "file_extension": ".py",
   "mimetype": "text/x-python",
   "name": "python",
   "nbconvert_exporter": "python",
   "pygments_lexer": "ipython3",
   "version": "3.11.9"
  }
 },
 "nbformat": 4,
 "nbformat_minor": 5
}
